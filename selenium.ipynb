{
 "cells": [
  {
   "cell_type": "code",
   "execution_count": 7,
   "id": "d3ea55c5",
   "metadata": {},
   "outputs": [],
   "source": [
    "# !pip install selenium"
   ]
  },
  {
   "cell_type": "code",
   "execution_count": 8,
   "id": "ff454ef3",
   "metadata": {
    "scrolled": true
   },
   "outputs": [],
   "source": [
    "from selenium import webdriver\n",
    "from selenium.webdriver.common.keys import Keys\n",
    "from selenium.webdriver.support.ui import Select\n",
    "import time\n",
    "import re\n",
    "from selenium.webdriver.common.by import By\n",
    "from selenium.webdriver.support.ui import WebDriverWait\n",
    "from selenium.webdriver.support import expected_conditions as EC\n"
   ]
  },
  {
   "cell_type": "code",
   "execution_count": 9,
   "id": "4267ce78",
   "metadata": {},
   "outputs": [
    {
     "name": "stdout",
     "output_type": "stream",
     "text": [
      "Result: www.shiksha.com was #2 in the search results.\n"
     ]
    }
   ],
   "source": [
    "keywords = []\n",
    "ranks = []\n",
    "\n",
    "# Replace 'chromedriver.exe' with the path to your WebDriver executable.\n",
    "driver = webdriver.Chrome()\n",
    "\n",
    "# Open the web page where you want to automate the task.\n",
    "driver.get('https://proseotoolkit.com/tools/google-serp')  # Replace with the actual URL.\n",
    "time.sleep(2)\n",
    "\n",
    "# Find the text box element and input text.\n",
    "text_box = driver.find_element('xpath','/html/body/section[2]/div/form/div/input')  # Replace with the actual ID or other locator.\n",
    "text_to_input = \"https://www.shiksha.com/engineering/ranking/top-private-engineering-colleges-in-india/109-2-0-0-0\"\n",
    "text_box.send_keys(text_to_input)\n",
    "\n",
    "# Find and click the submit button.\n",
    "submit_button = driver.find_element('xpath','/html/body/section[2]/div/form/div/div/button')  # Replace with the actual ID or other locator.\n",
    "submit_button.click()\n",
    "\n",
    "# Wait for the result to load (you may need to adjust the waiting time).\n",
    "time.sleep(2)\n",
    "\n",
    "keyword = 'iims pune'\n",
    "\n",
    "text_box_2 = driver.find_element('xpath','/html/body/section[3]/div/div/div[1]/div[1]/form/div/div[1]/input')\n",
    "text_box_2.send_keys(keyword)\n",
    "\n",
    "list_box = driver.find_element('xpath','/html/body/section[3]/div/div/div[1]/div[1]/form/div/div[2]/select')\n",
    "select = Select(list_box)\n",
    "select.select_by_visible_text('India')\n",
    "time.sleep(2)\n",
    "\n",
    "submit_button_2 = driver.find_element('xpath','/html/body/section[3]/div/div/div[1]/div[1]/form/div/div[3]/button')\n",
    "submit_button_2.click()\n",
    "\n",
    "# Find the result element and copy its text.\n",
    "try:\n",
    "    result_element = driver.find_element('xpath','/html/body/section[3]/div/div[1]/div[1]/div[2]/div')  # Replace with the actual ID or other locator.\n",
    "    result_text = result_element.text\n",
    "    time.sleep(2)\n",
    "        \n",
    "except:\n",
    "    result_element = driver.find_element('xpath','/html/body/section[3]/div/div[1]/div[1]/div[3]/div/p')  # Replace with the actual ID or other locator.\n",
    "    result_text = result_element.text\n",
    "    print('this is trying run try & except command')\n",
    "    time.sleep(2)\n",
    "\n",
    "# Print or use the result as needed.\n",
    "print(\"Result:\", result_text)\n",
    "\n",
    "rank_match = re.search(r'#(\\d+)', result_text)\n",
    "\n",
    "if rank_match:\n",
    "    rank = \"#\" + rank_match.group(1)\n",
    "else:\n",
    "    rank = None\n",
    "\n",
    "keywords.append(rank)\n",
    "ranks.append(keyword)"
   ]
  },
  {
   "cell_type": "code",
   "execution_count": 10,
   "id": "e24c794a",
   "metadata": {},
   "outputs": [],
   "source": [
    "keyword_list = [\n",
    "   \n",
    "    \"JNU admission 2024\",\n",
    "    \"LPU Cutoff 2023\",\n",
    "    \"Jadavpur University Cutoff 2023\",\n",
    "    \"Jamia Millia Islamia Cutoff 2023\",\n",
    "    \"Hyderabad University Cutoff 2023\",\n",
    "    \"IIM Jammu Cutoff\",\n",
    "    \"IIM Shillon Cutoff\"\n",
    "]\n"
   ]
  },
  {
   "cell_type": "code",
   "execution_count": 11,
   "id": "9270a860",
   "metadata": {},
   "outputs": [],
   "source": [
    "for i in keyword_list:\n",
    "    time.sleep(2)\n",
    "    text_box_2 = driver.find_element('xpath','/html/body/section[3]/div/div/div[1]/div[1]/form/div/div[1]/input')\n",
    "    text_box_2.clear()  # Clear the text field\n",
    "    text_box_2.send_keys(i)\n",
    "    \n",
    "    submit_button_2 = driver.find_element('xpath','/html/body/section[3]/div/div/div[1]/div[1]/form/div/div[3]/button')\n",
    "    submit_button_2.click()\n",
    "    time.sleep(2)\n",
    "    \n",
    "    try:\n",
    "        result_element = driver.find_element('xpath','/html/body/section[3]/div/div[1]/div[1]/div[2]/div')  # Replace with the actual ID or other locator.\n",
    "        result_text = result_element.text\n",
    "        time.sleep(2)\n",
    "        \n",
    "    except:\n",
    "        result_element = driver.find_element('xpath','/html/body/section[3]/div/div[1]/div[1]/div[3]/div/p')  # Replace with the actual ID or other locator.\n",
    "        result_text = result_element.text\n",
    "        print('this is trying run try & except command')\n",
    "        time.sleep(2)\n",
    "            \n",
    "            \n",
    "    rank_match = re.search(r'#(\\d+)', result_text)\n",
    "\n",
    "    if rank_match:\n",
    "        rank = \"#\" + rank_match.group(1)\n",
    "    else:\n",
    "        rank = None\n",
    "\n",
    "    keywords.append(rank)\n",
    "    ranks.append(i)\n",
    "    time.sleep(2)  \n",
    "        \n",
    "        "
   ]
  },
  {
   "cell_type": "code",
   "execution_count": 12,
   "id": "e8ad8d70",
   "metadata": {},
   "outputs": [
    {
     "name": "stdout",
     "output_type": "stream",
     "text": [
      "['#2', '#4', '#3', '#2', '#1', '#1', '#2', '#1']\n",
      "['iims pune', 'JNU admission 2024', 'LPU Cutoff 2023', 'Jadavpur University Cutoff 2023', 'Jamia Millia Islamia Cutoff 2023', 'Hyderabad University Cutoff 2023', 'IIM Jammu Cutoff', 'IIM Shillon Cutoff']\n"
     ]
    }
   ],
   "source": [
    "print(keywords)\n",
    "print(ranks)"
   ]
  },
  {
   "cell_type": "code",
   "execution_count": 14,
   "id": "4ab67442",
   "metadata": {},
   "outputs": [
    {
     "data": {
      "text/html": [
       "<div>\n",
       "<style scoped>\n",
       "    .dataframe tbody tr th:only-of-type {\n",
       "        vertical-align: middle;\n",
       "    }\n",
       "\n",
       "    .dataframe tbody tr th {\n",
       "        vertical-align: top;\n",
       "    }\n",
       "\n",
       "    .dataframe thead th {\n",
       "        text-align: right;\n",
       "    }\n",
       "</style>\n",
       "<table border=\"1\" class=\"dataframe\">\n",
       "  <thead>\n",
       "    <tr style=\"text-align: right;\">\n",
       "      <th></th>\n",
       "      <th>0</th>\n",
       "      <th>1</th>\n",
       "    </tr>\n",
       "  </thead>\n",
       "  <tbody>\n",
       "    <tr>\n",
       "      <th>0</th>\n",
       "      <td>#2</td>\n",
       "      <td>iims pune</td>\n",
       "    </tr>\n",
       "    <tr>\n",
       "      <th>1</th>\n",
       "      <td>#4</td>\n",
       "      <td>JNU admission 2024</td>\n",
       "    </tr>\n",
       "    <tr>\n",
       "      <th>2</th>\n",
       "      <td>#3</td>\n",
       "      <td>LPU Cutoff 2023</td>\n",
       "    </tr>\n",
       "    <tr>\n",
       "      <th>3</th>\n",
       "      <td>#2</td>\n",
       "      <td>Jadavpur University Cutoff 2023</td>\n",
       "    </tr>\n",
       "    <tr>\n",
       "      <th>4</th>\n",
       "      <td>#1</td>\n",
       "      <td>Jamia Millia Islamia Cutoff 2023</td>\n",
       "    </tr>\n",
       "    <tr>\n",
       "      <th>5</th>\n",
       "      <td>#1</td>\n",
       "      <td>Hyderabad University Cutoff 2023</td>\n",
       "    </tr>\n",
       "    <tr>\n",
       "      <th>6</th>\n",
       "      <td>#2</td>\n",
       "      <td>IIM Jammu Cutoff</td>\n",
       "    </tr>\n",
       "    <tr>\n",
       "      <th>7</th>\n",
       "      <td>#1</td>\n",
       "      <td>IIM Shillon Cutoff</td>\n",
       "    </tr>\n",
       "  </tbody>\n",
       "</table>\n",
       "</div>"
      ],
      "text/plain": [
       "    0                                 1\n",
       "0  #2                         iims pune\n",
       "1  #4                JNU admission 2024\n",
       "2  #3                   LPU Cutoff 2023\n",
       "3  #2   Jadavpur University Cutoff 2023\n",
       "4  #1  Jamia Millia Islamia Cutoff 2023\n",
       "5  #1  Hyderabad University Cutoff 2023\n",
       "6  #2                  IIM Jammu Cutoff\n",
       "7  #1                IIM Shillon Cutoff"
      ]
     },
     "execution_count": 14,
     "metadata": {},
     "output_type": "execute_result"
    }
   ],
   "source": [
    "import pandas as pd\n",
    "df = pd.DataFrame(list(zip(keywords,ranks)))\n",
    "df"
   ]
  },
  {
   "cell_type": "code",
   "execution_count": 16,
   "id": "6d007f03",
   "metadata": {},
   "outputs": [],
   "source": [
    "df.to_csv('rank1.csv')"
   ]
  },
  {
   "cell_type": "code",
   "execution_count": null,
   "id": "52eabfdd",
   "metadata": {},
   "outputs": [],
   "source": [
    "import pandas as pd\n"
   ]
  }
 ],
 "metadata": {
  "kernelspec": {
   "display_name": "Python 3 (ipykernel)",
   "language": "python",
   "name": "python3"
  },
  "language_info": {
   "codemirror_mode": {
    "name": "ipython",
    "version": 3
   },
   "file_extension": ".py",
   "mimetype": "text/x-python",
   "name": "python",
   "nbconvert_exporter": "python",
   "pygments_lexer": "ipython3",
   "version": "3.11.5"
  }
 },
 "nbformat": 4,
 "nbformat_minor": 5
}
